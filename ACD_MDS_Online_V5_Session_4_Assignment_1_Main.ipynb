{
 "cells": [
  {
   "cell_type": "code",
   "execution_count": 55,
   "metadata": {},
   "outputs": [
    {
     "name": "stdout",
     "output_type": "stream",
     "text": [
      "Enter first side: 5\n",
      "Enter second side: 6\n",
      "Enter third side: 7\n",
      "Area of triangle is 14.70\n"
     ]
    }
   ],
   "source": [
    "class TriangleBaseClass:\n",
    "    def __init__(self, sidea, sideb,sidec):\n",
    "        self.a = sidea\n",
    "        self.b = sideb\n",
    "        self.c = sidec       \n",
    "    def Sides(self):\n",
    "        return self.a + \" \" + self.b + \" \"+ self.c    \n",
    "class TriangleDerivedClass(TriangleBaseClass):\n",
    "    def __init__(self, sidea, sideb,sidec):\n",
    "        TriangleBaseClass.__init__(self ,sidea, sideb,sidec)\n",
    "    def Area(self):\n",
    "        s = (self.a + self.b+ self.c) / 2\n",
    "        return (s*(s-self.a)*(s-self.b)*(s-self.c)) ** 0.5\n",
    "a = float(input('Enter first side: '))\n",
    "b = float(input('Enter second side: '))\n",
    "c = float(input('Enter third side: '))    \n",
    "TriangleDerivedClassobj = TriangleDerivedClass(a,b,c)\n",
    "print('Area of triangle is %0.2f'%TriangleDerivedClassobj.Area())"
   ]
  },
  {
   "cell_type": "code",
   "execution_count": 34,
   "metadata": {},
   "outputs": [
    {
     "name": "stdout",
     "output_type": "stream",
     "text": [
      "['January', 'Feburary', 'March', 'April', 'June', 'July']\n"
     ]
    }
   ],
   "source": [
    "#1.2  Write a function filter_long_words() that takes a list of words and an integer n and returns the list of words that \n",
    "# Initialize the list \n",
    "word=  [\"January\",\"Feburary\",\"March\",\"April\",\"May\",\"June\",\"July\"]\n",
    "def  filter_long_words(arg_word,n):\n",
    "    max_len = n\n",
    "    return [x for x in arg_word if len(x) >= max_len]\n",
    "print( filter_long_words(word,4))"
   ]
  },
  {
   "cell_type": "code",
   "execution_count": 49,
   "metadata": {},
   "outputs": [
    {
     "name": "stdout",
     "output_type": "stream",
     "text": [
      "[2, 3, 4, 10]\n"
     ]
    }
   ],
   "source": [
    "lists = ['ab','cde','erty','asdasasdsa']\n",
    "def  length_words(mylist):\n",
    "    return [len(i) for i in mylist[::]]    \n",
    "print(length_words(lists))"
   ]
  },
  {
   "cell_type": "code",
   "execution_count": 54,
   "metadata": {},
   "outputs": [
    {
     "name": "stdout",
     "output_type": "stream",
     "text": [
      "False\n",
      "True\n"
     ]
    }
   ],
   "source": [
    "def filterVowels(alphabet):\n",
    "    vowels = ['a', 'e', 'i', 'o', 'u']\n",
    "    if(alphabet in vowels):\n",
    "        return True\n",
    "    else:\n",
    "        return False\n",
    "print(filterVowels('b'))\n",
    "print(filterVowels('a'))"
   ]
  },
  {
   "cell_type": "code",
   "execution_count": null,
   "metadata": {},
   "outputs": [],
   "source": []
  }
 ],
 "metadata": {
  "kernelspec": {
   "display_name": "Python 3",
   "language": "python",
   "name": "python3"
  },
  "language_info": {
   "codemirror_mode": {
    "name": "ipython",
    "version": 3
   },
   "file_extension": ".py",
   "mimetype": "text/x-python",
   "name": "python",
   "nbconvert_exporter": "python",
   "pygments_lexer": "ipython3",
   "version": "3.7.0"
  }
 },
 "nbformat": 4,
 "nbformat_minor": 2
}
